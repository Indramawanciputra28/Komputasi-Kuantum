{
  "nbformat": 4,
  "nbformat_minor": 0,
  "metadata": {
    "colab": {
      "provenance": [],
      "authorship_tag": "ABX9TyPrqe7J+uk0W8hayaDuJB2A",
      "include_colab_link": true
    },
    "kernelspec": {
      "name": "python3",
      "display_name": "Python 3"
    },
    "language_info": {
      "name": "python"
    }
  },
  "cells": [
    {
      "cell_type": "markdown",
      "metadata": {
        "id": "view-in-github",
        "colab_type": "text"
      },
      "source": [
        "<a href=\"https://colab.research.google.com/github/Indramawanciputra28/Komputasi-Kuantum/blob/main/QNN.ipynb\" target=\"_parent\"><img src=\"https://colab.research.google.com/assets/colab-badge.svg\" alt=\"Open In Colab\"/></a>"
      ]
    },
    {
      "cell_type": "markdown",
      "source": [
        "#Quantum Neural Network (QNN) for Clasiifier:"
      ],
      "metadata": {
        "id": "OqqVcMPGn-h_"
      }
    },
    {
      "cell_type": "code",
      "execution_count": 30,
      "metadata": {
        "colab": {
          "base_uri": "https://localhost:8080/"
        },
        "id": "qlWpY1PKn23a",
        "outputId": "2c0788b7-5aa4-4556-9cbf-98c55aec8c1b"
      },
      "outputs": [
        {
          "output_type": "stream",
          "name": "stdout",
          "text": [
            "Requirement already satisfied: qiskit==0.46.1 in /usr/local/lib/python3.10/dist-packages (0.46.1)\n",
            "Requirement already satisfied: qiskit-aer in /usr/local/lib/python3.10/dist-packages (0.14.2)\n",
            "Requirement already satisfied: qiskit_machine_learning==0.7.2 in /usr/local/lib/python3.10/dist-packages (0.7.2)\n",
            "Requirement already satisfied: pylatexenc in /usr/local/lib/python3.10/dist-packages (2.10)\n",
            "Requirement already satisfied: qiskit-terra==0.46.1 in /usr/local/lib/python3.10/dist-packages (from qiskit==0.46.1) (0.46.1)\n",
            "Requirement already satisfied: qiskit-algorithms>=0.2.0 in /usr/local/lib/python3.10/dist-packages (from qiskit_machine_learning==0.7.2) (0.3.1)\n",
            "Requirement already satisfied: scipy>=1.4 in /usr/local/lib/python3.10/dist-packages (from qiskit_machine_learning==0.7.2) (1.13.1)\n",
            "Requirement already satisfied: numpy>=1.17 in /usr/local/lib/python3.10/dist-packages (from qiskit_machine_learning==0.7.2) (1.26.4)\n",
            "Requirement already satisfied: psutil>=5 in /usr/local/lib/python3.10/dist-packages (from qiskit_machine_learning==0.7.2) (5.9.5)\n",
            "Requirement already satisfied: scikit-learn>=1.2.0 in /usr/local/lib/python3.10/dist-packages (from qiskit_machine_learning==0.7.2) (1.6.0)\n",
            "Requirement already satisfied: fastdtw in /usr/local/lib/python3.10/dist-packages (from qiskit_machine_learning==0.7.2) (0.3.4)\n",
            "Requirement already satisfied: setuptools>=40.1.0 in /usr/local/lib/python3.10/dist-packages (from qiskit_machine_learning==0.7.2) (75.1.0)\n",
            "Requirement already satisfied: dill>=0.3.4 in /usr/local/lib/python3.10/dist-packages (from qiskit_machine_learning==0.7.2) (0.3.9)\n",
            "Requirement already satisfied: rustworkx>=0.13.0 in /usr/local/lib/python3.10/dist-packages (from qiskit-terra==0.46.1->qiskit==0.46.1) (0.15.1)\n",
            "Requirement already satisfied: ply>=3.10 in /usr/local/lib/python3.10/dist-packages (from qiskit-terra==0.46.1->qiskit==0.46.1) (3.11)\n",
            "Requirement already satisfied: sympy>=1.3 in /usr/local/lib/python3.10/dist-packages (from qiskit-terra==0.46.1->qiskit==0.46.1) (1.13.1)\n",
            "Requirement already satisfied: python-dateutil>=2.8.0 in /usr/local/lib/python3.10/dist-packages (from qiskit-terra==0.46.1->qiskit==0.46.1) (2.8.2)\n",
            "Requirement already satisfied: stevedore>=3.0.0 in /usr/local/lib/python3.10/dist-packages (from qiskit-terra==0.46.1->qiskit==0.46.1) (5.4.0)\n",
            "Requirement already satisfied: symengine>=0.11 in /usr/local/lib/python3.10/dist-packages (from qiskit-terra==0.46.1->qiskit==0.46.1) (0.13.0)\n",
            "Requirement already satisfied: typing-extensions in /usr/local/lib/python3.10/dist-packages (from qiskit-terra==0.46.1->qiskit==0.46.1) (4.12.2)\n",
            "Requirement already satisfied: joblib>=1.2.0 in /usr/local/lib/python3.10/dist-packages (from scikit-learn>=1.2.0->qiskit_machine_learning==0.7.2) (1.4.2)\n",
            "Requirement already satisfied: threadpoolctl>=3.1.0 in /usr/local/lib/python3.10/dist-packages (from scikit-learn>=1.2.0->qiskit_machine_learning==0.7.2) (3.5.0)\n",
            "Requirement already satisfied: six>=1.5 in /usr/local/lib/python3.10/dist-packages (from python-dateutil>=2.8.0->qiskit-terra==0.46.1->qiskit==0.46.1) (1.17.0)\n",
            "Requirement already satisfied: pbr>=2.0.0 in /usr/local/lib/python3.10/dist-packages (from stevedore>=3.0.0->qiskit-terra==0.46.1->qiskit==0.46.1) (6.1.0)\n",
            "Requirement already satisfied: mpmath<1.4,>=1.1.0 in /usr/local/lib/python3.10/dist-packages (from sympy>=1.3->qiskit-terra==0.46.1->qiskit==0.46.1) (1.3.0)\n"
          ]
        }
      ],
      "source": [
        "pip install qiskit==0.46.1 qiskit-aer qiskit_machine_learning==0.7.2 pylatexenc\n"
      ]
    },
    {
      "cell_type": "code",
      "source": [
        "pip show qiskit scikit-learn\n"
      ],
      "metadata": {
        "colab": {
          "base_uri": "https://localhost:8080/"
        },
        "id": "ODeFBylV0rJ8",
        "outputId": "71ccc35b-6169-4fb3-fe9a-43228116fe26"
      },
      "execution_count": 4,
      "outputs": [
        {
          "output_type": "stream",
          "name": "stdout",
          "text": [
            "\u001b[33mWARNING: Package(s) not found: qiskit\u001b[0m\u001b[33m\n",
            "\u001b[0mName: scikit-learn\n",
            "Version: 1.6.0\n",
            "Summary: A set of python modules for machine learning and data mining\n",
            "Home-page: https://scikit-learn.org\n",
            "Author: \n",
            "Author-email: \n",
            "License: BSD 3-Clause License\n",
            "         \n",
            "         Copyright (c) 2007-2024 The scikit-learn developers.\n",
            "         All rights reserved.\n",
            "         \n",
            "         Redistribution and use in source and binary forms, with or without\n",
            "         modification, are permitted provided that the following conditions are met:\n",
            "         \n",
            "         * Redistributions of source code must retain the above copyright notice, this\n",
            "           list of conditions and the following disclaimer.\n",
            "         \n",
            "         * Redistributions in binary form must reproduce the above copyright notice,\n",
            "           this list of conditions and the following disclaimer in the documentation\n",
            "           and/or other materials provided with the distribution.\n",
            "         \n",
            "         * Neither the name of the copyright holder nor the names of its\n",
            "           contributors may be used to endorse or promote products derived from\n",
            "           this software without specific prior written permission.\n",
            "         \n",
            "         THIS SOFTWARE IS PROVIDED BY THE COPYRIGHT HOLDERS AND CONTRIBUTORS \"AS IS\"\n",
            "         AND ANY EXPRESS OR IMPLIED WARRANTIES, INCLUDING, BUT NOT LIMITED TO, THE\n",
            "         IMPLIED WARRANTIES OF MERCHANTABILITY AND FITNESS FOR A PARTICULAR PURPOSE ARE\n",
            "         DISCLAIMED. IN NO EVENT SHALL THE COPYRIGHT HOLDER OR CONTRIBUTORS BE LIABLE\n",
            "         FOR ANY DIRECT, INDIRECT, INCIDENTAL, SPECIAL, EXEMPLARY, OR CONSEQUENTIAL\n",
            "         DAMAGES (INCLUDING, BUT NOT LIMITED TO, PROCUREMENT OF SUBSTITUTE GOODS OR\n",
            "         SERVICES; LOSS OF USE, DATA, OR PROFITS; OR BUSINESS INTERRUPTION) HOWEVER\n",
            "         CAUSED AND ON ANY THEORY OF LIABILITY, WHETHER IN CONTRACT, STRICT LIABILITY,\n",
            "         OR TORT (INCLUDING NEGLIGENCE OR OTHERWISE) ARISING IN ANY WAY OUT OF THE USE\n",
            "         OF THIS SOFTWARE, EVEN IF ADVISED OF THE POSSIBILITY OF SUCH DAMAGE.\n",
            "         \n",
            "         ----\n",
            "         \n",
            "         This binary distribution of scikit-learn also bundles the following software:\n",
            "         \n",
            "         ----\n",
            "         \n",
            "         Name: GCC runtime library\n",
            "         Files: scikit_learn.libs/libgomp*.so*\n",
            "         Availability: https://gcc.gnu.org/git/?p=gcc.git;a=tree;f=libgomp\n",
            "         \n",
            "         GCC RUNTIME LIBRARY EXCEPTION\n",
            "         \n",
            "         Version 3.1, 31 March 2009\n",
            "         \n",
            "         Copyright (C) 2009 Free Software Foundation, Inc. <http://fsf.org/>\n",
            "         \n",
            "         Everyone is permitted to copy and distribute verbatim copies of this\n",
            "         license document, but changing it is not allowed.\n",
            "         \n",
            "         This GCC Runtime Library Exception (\"Exception\") is an additional\n",
            "         permission under section 7 of the GNU General Public License, version\n",
            "         3 (\"GPLv3\"). It applies to a given file (the \"Runtime Library\") that\n",
            "         bears a notice placed by the copyright holder of the file stating that\n",
            "         the file is governed by GPLv3 along with this Exception.\n",
            "         \n",
            "         When you use GCC to compile a program, GCC may combine portions of\n",
            "         certain GCC header files and runtime libraries with the compiled\n",
            "         program. The purpose of this Exception is to allow compilation of\n",
            "         non-GPL (including proprietary) programs to use, in this way, the\n",
            "         header files and runtime libraries covered by this Exception.\n",
            "         \n",
            "         0. Definitions.\n",
            "         \n",
            "         A file is an \"Independent Module\" if it either requires the Runtime\n",
            "         Library for execution after a Compilation Process, or makes use of an\n",
            "         interface provided by the Runtime Library, but is not otherwise based\n",
            "         on the Runtime Library.\n",
            "         \n",
            "         \"GCC\" means a version of the GNU Compiler Collection, with or without\n",
            "         modifications, governed by version 3 (or a specified later version) of\n",
            "         the GNU General Public License (GPL) with the option of using any\n",
            "         subsequent versions published by the FSF.\n",
            "         \n",
            "         \"GPL-compatible Software\" is software whose conditions of propagation,\n",
            "         modification and use would permit combination with GCC in accord with\n",
            "         the license of GCC.\n",
            "         \n",
            "         \"Target Code\" refers to output from any compiler for a real or virtual\n",
            "         target processor architecture, in executable form or suitable for\n",
            "         input to an assembler, loader, linker and/or execution\n",
            "         phase. Notwithstanding that, Target Code does not include data in any\n",
            "         format that is used as a compiler intermediate representation, or used\n",
            "         for producing a compiler intermediate representation.\n",
            "         \n",
            "         The \"Compilation Process\" transforms code entirely represented in\n",
            "         non-intermediate languages designed for human-written code, and/or in\n",
            "         Java Virtual Machine byte code, into Target Code. Thus, for example,\n",
            "         use of source code generators and preprocessors need not be considered\n",
            "         part of the Compilation Process, since the Compilation Process can be\n",
            "         understood as starting with the output of the generators or\n",
            "         preprocessors.\n",
            "         \n",
            "         A Compilation Process is \"Eligible\" if it is done using GCC, alone or\n",
            "         with other GPL-compatible software, or if it is done without using any\n",
            "         work based on GCC. For example, using non-GPL-compatible Software to\n",
            "         optimize any GCC intermediate representations would not qualify as an\n",
            "         Eligible Compilation Process.\n",
            "         \n",
            "         1. Grant of Additional Permission.\n",
            "         \n",
            "         You have permission to propagate a work of Target Code formed by\n",
            "         combining the Runtime Library with Independent Modules, even if such\n",
            "         propagation would otherwise violate the terms of GPLv3, provided that\n",
            "         all Target Code was generated by Eligible Compilation Processes. You\n",
            "         may then convey such a combination under terms of your choice,\n",
            "         consistent with the licensing of the Independent Modules.\n",
            "         \n",
            "         2. No Weakening of GCC Copyleft.\n",
            "         \n",
            "         The availability of this Exception does not imply any general\n",
            "         presumption that third-party software is unaffected by the copyleft\n",
            "         requirements of the license of GCC.\n",
            "         \n",
            "Location: /usr/local/lib/python3.10/dist-packages\n",
            "Requires: joblib, numpy, scipy, threadpoolctl\n",
            "Required-by: bigframes, fastai, imbalanced-learn, librosa, mlxtend, sentence-transformers, shap, sklearn-pandas, yellowbrick\n"
          ]
        }
      ]
    },
    {
      "cell_type": "markdown",
      "source": [
        "#1. load Dataset (Iris)"
      ],
      "metadata": {
        "id": "5OPBIMEEoQ8G"
      }
    },
    {
      "cell_type": "code",
      "source": [
        "import pandas as pd\n",
        "# Mengimpor pustaka pandas untuk manipulasi data\n",
        "\n",
        "from sklearn.datasets import load_iris\n",
        "# Mengimpor fungsi `load_iris` dari scikit-learn untuk memuat dataset Iris\n",
        "\n",
        "dataset = load_iris()\n",
        "# Memuat dataset Iris, sebuah dataset yang sering digunakan dalam pembelajaran mesin untuk klasifikasi\n"
      ],
      "metadata": {
        "id": "WXGoAXT1oNLX"
      },
      "execution_count": 31,
      "outputs": []
    },
    {
      "cell_type": "code",
      "source": [
        "df = pd.DataFrame(dataset.data, columns=dataset.feature_names)\n",
        "# Membuat DataFrame pandas dari data pada dataset Iris, dengan nama kolom diambil dari atribut `feature_names`\n",
        "\n",
        "df['target'] = dataset.target\n",
        "# Menambahkan kolom 'target' ke DataFrame, berisi label target dari dataset Iris\n",
        "\n",
        "df.head()\n",
        "# Menampilkan 5 baris pertama dari DataFrame untuk melihat data secara sekilas\n"
      ],
      "metadata": {
        "colab": {
          "base_uri": "https://localhost:8080/",
          "height": 206
        },
        "id": "xHYGjECmquI2",
        "outputId": "6648305a-6607-48b7-830c-2d90c9c3cf9e"
      },
      "execution_count": 32,
      "outputs": [
        {
          "output_type": "execute_result",
          "data": {
            "text/plain": [
              "   sepal length (cm)  sepal width (cm)  petal length (cm)  petal width (cm)  \\\n",
              "0                5.1               3.5                1.4               0.2   \n",
              "1                4.9               3.0                1.4               0.2   \n",
              "2                4.7               3.2                1.3               0.2   \n",
              "3                4.6               3.1                1.5               0.2   \n",
              "4                5.0               3.6                1.4               0.2   \n",
              "\n",
              "   target  \n",
              "0       0  \n",
              "1       0  \n",
              "2       0  \n",
              "3       0  \n",
              "4       0  "
            ],
            "text/html": [
              "\n",
              "  <div id=\"df-fae8ff73-e864-4c28-a68e-ae0f12718762\" class=\"colab-df-container\">\n",
              "    <div>\n",
              "<style scoped>\n",
              "    .dataframe tbody tr th:only-of-type {\n",
              "        vertical-align: middle;\n",
              "    }\n",
              "\n",
              "    .dataframe tbody tr th {\n",
              "        vertical-align: top;\n",
              "    }\n",
              "\n",
              "    .dataframe thead th {\n",
              "        text-align: right;\n",
              "    }\n",
              "</style>\n",
              "<table border=\"1\" class=\"dataframe\">\n",
              "  <thead>\n",
              "    <tr style=\"text-align: right;\">\n",
              "      <th></th>\n",
              "      <th>sepal length (cm)</th>\n",
              "      <th>sepal width (cm)</th>\n",
              "      <th>petal length (cm)</th>\n",
              "      <th>petal width (cm)</th>\n",
              "      <th>target</th>\n",
              "    </tr>\n",
              "  </thead>\n",
              "  <tbody>\n",
              "    <tr>\n",
              "      <th>0</th>\n",
              "      <td>5.1</td>\n",
              "      <td>3.5</td>\n",
              "      <td>1.4</td>\n",
              "      <td>0.2</td>\n",
              "      <td>0</td>\n",
              "    </tr>\n",
              "    <tr>\n",
              "      <th>1</th>\n",
              "      <td>4.9</td>\n",
              "      <td>3.0</td>\n",
              "      <td>1.4</td>\n",
              "      <td>0.2</td>\n",
              "      <td>0</td>\n",
              "    </tr>\n",
              "    <tr>\n",
              "      <th>2</th>\n",
              "      <td>4.7</td>\n",
              "      <td>3.2</td>\n",
              "      <td>1.3</td>\n",
              "      <td>0.2</td>\n",
              "      <td>0</td>\n",
              "    </tr>\n",
              "    <tr>\n",
              "      <th>3</th>\n",
              "      <td>4.6</td>\n",
              "      <td>3.1</td>\n",
              "      <td>1.5</td>\n",
              "      <td>0.2</td>\n",
              "      <td>0</td>\n",
              "    </tr>\n",
              "    <tr>\n",
              "      <th>4</th>\n",
              "      <td>5.0</td>\n",
              "      <td>3.6</td>\n",
              "      <td>1.4</td>\n",
              "      <td>0.2</td>\n",
              "      <td>0</td>\n",
              "    </tr>\n",
              "  </tbody>\n",
              "</table>\n",
              "</div>\n",
              "    <div class=\"colab-df-buttons\">\n",
              "\n",
              "  <div class=\"colab-df-container\">\n",
              "    <button class=\"colab-df-convert\" onclick=\"convertToInteractive('df-fae8ff73-e864-4c28-a68e-ae0f12718762')\"\n",
              "            title=\"Convert this dataframe to an interactive table.\"\n",
              "            style=\"display:none;\">\n",
              "\n",
              "  <svg xmlns=\"http://www.w3.org/2000/svg\" height=\"24px\" viewBox=\"0 -960 960 960\">\n",
              "    <path d=\"M120-120v-720h720v720H120Zm60-500h600v-160H180v160Zm220 220h160v-160H400v160Zm0 220h160v-160H400v160ZM180-400h160v-160H180v160Zm440 0h160v-160H620v160ZM180-180h160v-160H180v160Zm440 0h160v-160H620v160Z\"/>\n",
              "  </svg>\n",
              "    </button>\n",
              "\n",
              "  <style>\n",
              "    .colab-df-container {\n",
              "      display:flex;\n",
              "      gap: 12px;\n",
              "    }\n",
              "\n",
              "    .colab-df-convert {\n",
              "      background-color: #E8F0FE;\n",
              "      border: none;\n",
              "      border-radius: 50%;\n",
              "      cursor: pointer;\n",
              "      display: none;\n",
              "      fill: #1967D2;\n",
              "      height: 32px;\n",
              "      padding: 0 0 0 0;\n",
              "      width: 32px;\n",
              "    }\n",
              "\n",
              "    .colab-df-convert:hover {\n",
              "      background-color: #E2EBFA;\n",
              "      box-shadow: 0px 1px 2px rgba(60, 64, 67, 0.3), 0px 1px 3px 1px rgba(60, 64, 67, 0.15);\n",
              "      fill: #174EA6;\n",
              "    }\n",
              "\n",
              "    .colab-df-buttons div {\n",
              "      margin-bottom: 4px;\n",
              "    }\n",
              "\n",
              "    [theme=dark] .colab-df-convert {\n",
              "      background-color: #3B4455;\n",
              "      fill: #D2E3FC;\n",
              "    }\n",
              "\n",
              "    [theme=dark] .colab-df-convert:hover {\n",
              "      background-color: #434B5C;\n",
              "      box-shadow: 0px 1px 3px 1px rgba(0, 0, 0, 0.15);\n",
              "      filter: drop-shadow(0px 1px 2px rgba(0, 0, 0, 0.3));\n",
              "      fill: #FFFFFF;\n",
              "    }\n",
              "  </style>\n",
              "\n",
              "    <script>\n",
              "      const buttonEl =\n",
              "        document.querySelector('#df-fae8ff73-e864-4c28-a68e-ae0f12718762 button.colab-df-convert');\n",
              "      buttonEl.style.display =\n",
              "        google.colab.kernel.accessAllowed ? 'block' : 'none';\n",
              "\n",
              "      async function convertToInteractive(key) {\n",
              "        const element = document.querySelector('#df-fae8ff73-e864-4c28-a68e-ae0f12718762');\n",
              "        const dataTable =\n",
              "          await google.colab.kernel.invokeFunction('convertToInteractive',\n",
              "                                                    [key], {});\n",
              "        if (!dataTable) return;\n",
              "\n",
              "        const docLinkHtml = 'Like what you see? Visit the ' +\n",
              "          '<a target=\"_blank\" href=https://colab.research.google.com/notebooks/data_table.ipynb>data table notebook</a>'\n",
              "          + ' to learn more about interactive tables.';\n",
              "        element.innerHTML = '';\n",
              "        dataTable['output_type'] = 'display_data';\n",
              "        await google.colab.output.renderOutput(dataTable, element);\n",
              "        const docLink = document.createElement('div');\n",
              "        docLink.innerHTML = docLinkHtml;\n",
              "        element.appendChild(docLink);\n",
              "      }\n",
              "    </script>\n",
              "  </div>\n",
              "\n",
              "\n",
              "<div id=\"df-7e425b25-345d-450c-b2d1-4d4e9aabc66c\">\n",
              "  <button class=\"colab-df-quickchart\" onclick=\"quickchart('df-7e425b25-345d-450c-b2d1-4d4e9aabc66c')\"\n",
              "            title=\"Suggest charts\"\n",
              "            style=\"display:none;\">\n",
              "\n",
              "<svg xmlns=\"http://www.w3.org/2000/svg\" height=\"24px\"viewBox=\"0 0 24 24\"\n",
              "     width=\"24px\">\n",
              "    <g>\n",
              "        <path d=\"M19 3H5c-1.1 0-2 .9-2 2v14c0 1.1.9 2 2 2h14c1.1 0 2-.9 2-2V5c0-1.1-.9-2-2-2zM9 17H7v-7h2v7zm4 0h-2V7h2v10zm4 0h-2v-4h2v4z\"/>\n",
              "    </g>\n",
              "</svg>\n",
              "  </button>\n",
              "\n",
              "<style>\n",
              "  .colab-df-quickchart {\n",
              "      --bg-color: #E8F0FE;\n",
              "      --fill-color: #1967D2;\n",
              "      --hover-bg-color: #E2EBFA;\n",
              "      --hover-fill-color: #174EA6;\n",
              "      --disabled-fill-color: #AAA;\n",
              "      --disabled-bg-color: #DDD;\n",
              "  }\n",
              "\n",
              "  [theme=dark] .colab-df-quickchart {\n",
              "      --bg-color: #3B4455;\n",
              "      --fill-color: #D2E3FC;\n",
              "      --hover-bg-color: #434B5C;\n",
              "      --hover-fill-color: #FFFFFF;\n",
              "      --disabled-bg-color: #3B4455;\n",
              "      --disabled-fill-color: #666;\n",
              "  }\n",
              "\n",
              "  .colab-df-quickchart {\n",
              "    background-color: var(--bg-color);\n",
              "    border: none;\n",
              "    border-radius: 50%;\n",
              "    cursor: pointer;\n",
              "    display: none;\n",
              "    fill: var(--fill-color);\n",
              "    height: 32px;\n",
              "    padding: 0;\n",
              "    width: 32px;\n",
              "  }\n",
              "\n",
              "  .colab-df-quickchart:hover {\n",
              "    background-color: var(--hover-bg-color);\n",
              "    box-shadow: 0 1px 2px rgba(60, 64, 67, 0.3), 0 1px 3px 1px rgba(60, 64, 67, 0.15);\n",
              "    fill: var(--button-hover-fill-color);\n",
              "  }\n",
              "\n",
              "  .colab-df-quickchart-complete:disabled,\n",
              "  .colab-df-quickchart-complete:disabled:hover {\n",
              "    background-color: var(--disabled-bg-color);\n",
              "    fill: var(--disabled-fill-color);\n",
              "    box-shadow: none;\n",
              "  }\n",
              "\n",
              "  .colab-df-spinner {\n",
              "    border: 2px solid var(--fill-color);\n",
              "    border-color: transparent;\n",
              "    border-bottom-color: var(--fill-color);\n",
              "    animation:\n",
              "      spin 1s steps(1) infinite;\n",
              "  }\n",
              "\n",
              "  @keyframes spin {\n",
              "    0% {\n",
              "      border-color: transparent;\n",
              "      border-bottom-color: var(--fill-color);\n",
              "      border-left-color: var(--fill-color);\n",
              "    }\n",
              "    20% {\n",
              "      border-color: transparent;\n",
              "      border-left-color: var(--fill-color);\n",
              "      border-top-color: var(--fill-color);\n",
              "    }\n",
              "    30% {\n",
              "      border-color: transparent;\n",
              "      border-left-color: var(--fill-color);\n",
              "      border-top-color: var(--fill-color);\n",
              "      border-right-color: var(--fill-color);\n",
              "    }\n",
              "    40% {\n",
              "      border-color: transparent;\n",
              "      border-right-color: var(--fill-color);\n",
              "      border-top-color: var(--fill-color);\n",
              "    }\n",
              "    60% {\n",
              "      border-color: transparent;\n",
              "      border-right-color: var(--fill-color);\n",
              "    }\n",
              "    80% {\n",
              "      border-color: transparent;\n",
              "      border-right-color: var(--fill-color);\n",
              "      border-bottom-color: var(--fill-color);\n",
              "    }\n",
              "    90% {\n",
              "      border-color: transparent;\n",
              "      border-bottom-color: var(--fill-color);\n",
              "    }\n",
              "  }\n",
              "</style>\n",
              "\n",
              "  <script>\n",
              "    async function quickchart(key) {\n",
              "      const quickchartButtonEl =\n",
              "        document.querySelector('#' + key + ' button');\n",
              "      quickchartButtonEl.disabled = true;  // To prevent multiple clicks.\n",
              "      quickchartButtonEl.classList.add('colab-df-spinner');\n",
              "      try {\n",
              "        const charts = await google.colab.kernel.invokeFunction(\n",
              "            'suggestCharts', [key], {});\n",
              "      } catch (error) {\n",
              "        console.error('Error during call to suggestCharts:', error);\n",
              "      }\n",
              "      quickchartButtonEl.classList.remove('colab-df-spinner');\n",
              "      quickchartButtonEl.classList.add('colab-df-quickchart-complete');\n",
              "    }\n",
              "    (() => {\n",
              "      let quickchartButtonEl =\n",
              "        document.querySelector('#df-7e425b25-345d-450c-b2d1-4d4e9aabc66c button');\n",
              "      quickchartButtonEl.style.display =\n",
              "        google.colab.kernel.accessAllowed ? 'block' : 'none';\n",
              "    })();\n",
              "  </script>\n",
              "</div>\n",
              "\n",
              "    </div>\n",
              "  </div>\n"
            ],
            "application/vnd.google.colaboratory.intrinsic+json": {
              "type": "dataframe",
              "summary": "{\n  \"name\": \"# Menampilkan 5 baris pertama dari DataFrame untuk melihat data secara sekilas\",\n  \"rows\": 5,\n  \"fields\": [\n    {\n      \"column\": \"sepal length (cm)\",\n      \"properties\": {\n        \"dtype\": \"number\",\n        \"std\": 0.2073644135332772,\n        \"min\": 4.6,\n        \"max\": 5.1,\n        \"num_unique_values\": 5,\n        \"samples\": [\n          4.9,\n          5.0,\n          4.7\n        ],\n        \"semantic_type\": \"\",\n        \"description\": \"\"\n      }\n    },\n    {\n      \"column\": \"sepal width (cm)\",\n      \"properties\": {\n        \"dtype\": \"number\",\n        \"std\": 0.2588435821108957,\n        \"min\": 3.0,\n        \"max\": 3.6,\n        \"num_unique_values\": 5,\n        \"samples\": [\n          3.0,\n          3.6,\n          3.2\n        ],\n        \"semantic_type\": \"\",\n        \"description\": \"\"\n      }\n    },\n    {\n      \"column\": \"petal length (cm)\",\n      \"properties\": {\n        \"dtype\": \"number\",\n        \"std\": 0.07071067811865474,\n        \"min\": 1.3,\n        \"max\": 1.5,\n        \"num_unique_values\": 3,\n        \"samples\": [\n          1.4,\n          1.3,\n          1.5\n        ],\n        \"semantic_type\": \"\",\n        \"description\": \"\"\n      }\n    },\n    {\n      \"column\": \"petal width (cm)\",\n      \"properties\": {\n        \"dtype\": \"number\",\n        \"std\": 0.0,\n        \"min\": 0.2,\n        \"max\": 0.2,\n        \"num_unique_values\": 1,\n        \"samples\": [\n          0.2\n        ],\n        \"semantic_type\": \"\",\n        \"description\": \"\"\n      }\n    },\n    {\n      \"column\": \"target\",\n      \"properties\": {\n        \"dtype\": \"number\",\n        \"std\": 0,\n        \"min\": 0,\n        \"max\": 0,\n        \"num_unique_values\": 1,\n        \"samples\": [\n          0\n        ],\n        \"semantic_type\": \"\",\n        \"description\": \"\"\n      }\n    }\n  ]\n}"
            }
          },
          "metadata": {},
          "execution_count": 32
        }
      ]
    },
    {
      "cell_type": "code",
      "source": [
        "# Hanya gunakan binary class (0, 1)\n",
        "import numpy as np  # Mengimpor pustaka numpy untuk manipulasi array\n",
        "\n",
        "x = dataset.data  # Mengambil fitur dari dataset Iris\n",
        "y = dataset.target  # Mengambil target (label) dari dataset Iris\n",
        "\n",
        "indexes = np.array([i for (i, s) in enumerate(y) if (s == 0 or s == 1)])\n",
        "# Membuat array indeks untuk elemen-elemen pada target yang memiliki label 0 atau 1 (binary class)\n",
        "\n",
        "x = x[indexes]\n",
        "# Memilih subset fitur berdasarkan indeks untuk class 0 dan 1\n",
        "\n",
        "y = 2 * y[indexes] - 1\n",
        "# Mengonversi label 0 menjadi -1 dan label 1 tetap 1, untuk keperluan algoritma tertentu (misalnya SVM)\n"
      ],
      "metadata": {
        "id": "JnMWwK14q_RF"
      },
      "execution_count": 33,
      "outputs": []
    },
    {
      "cell_type": "markdown",
      "source": [
        "#2. Pre-Processing\n",
        "- EDA (Analisis Statistik, handling outlier, feature selection... dll"
      ],
      "metadata": {
        "id": "z7pm3howrP8m"
      }
    },
    {
      "cell_type": "code",
      "source": [
        "# Normalization\n",
        "from sklearn.preprocessing import StandardScaler, MinMaxScaler, RobustScaler\n",
        "# Mengimpor scaler dari scikit-learn untuk normalisasi data:\n",
        "# - StandardScaler: Menstandarkan data (mean=0, std=1)\n",
        "# - MinMaxScaler: Menskalakan data ke rentang [0, 1]\n",
        "# - RobustScaler: Menskalakan data dengan mengurangi sensitivitas terhadap outlier\n",
        "\n",
        "x = MinMaxScaler().fit_transform(x)\n",
        "# Menerapkan Min-Max Scaling pada data `x` sehingga semua nilai fitur berada di rentang [0, 1]\n"
      ],
      "metadata": {
        "id": "a1xACAcKrNF0"
      },
      "execution_count": 34,
      "outputs": []
    },
    {
      "cell_type": "code",
      "source": [
        "# Split train-test set (80:20)\n",
        "from sklearn.model_selection import train_test_split\n",
        "# Mengimpor fungsi `train_test_split` untuk membagi data menjadi set pelatihan dan pengujian\n",
        "\n",
        "x_train, x_test, y_train, y_test = train_test_split(x, y, test_size=0.2, random_state=42)\n",
        "# Membagi data:\n",
        "# - 80% data untuk pelatihan (training set)\n",
        "# - 20% data untuk pengujian (testing set)\n",
        "# - `random_state=42` memastikan pembagian data konsisten setiap kali dijalankan\n"
      ],
      "metadata": {
        "id": "1UU__q5krpa-"
      },
      "execution_count": 35,
      "outputs": []
    },
    {
      "cell_type": "markdown",
      "source": [
        "#3.QNN Model"
      ],
      "metadata": {
        "id": "ObWLc_9xrsjd"
      }
    },
    {
      "cell_type": "code",
      "source": [
        "# Arsitektur sirkuit kuantum\n",
        "import matplotlib.pyplot as plt  # Mengimpor pustaka untuk visualisasi grafik\n",
        "import qiskit  # Mengimpor Qiskit untuk komputasi kuantum\n",
        "from qiskit.circuit import QuantumCircuit, ParameterVector\n",
        "# Mengimpor QuantumCircuit untuk membuat sirkuit kuantum\n",
        "# Mengimpor ParameterVector untuk mendefinisikan parameter yang dapat disesuaikan dalam sirkuit\n",
        "\n",
        "num_qubits = 2  # Untuk data PCA 2D\n",
        "theta = ParameterVector('θ', num_qubits)\n",
        "phi = ParameterVector('ϕ', num_qubits)\n",
        "circuit = QuantumCircuit(num_qubits)\n",
        "\n",
        "# Parameter sirkuit\n",
        "num_qubits   = x_train.shape[1]  # Menentukan jumlah qubit berdasarkan jumlah fitur data pelatihan\n",
        "theta        = ParameterVector('θ', num_qubits)  # Membuat vektor parameter theta untuk rotasi\n",
        "phi          = ParameterVector('ϕ', num_qubits)  # Membuat vektor parameter phi untuk rotasi tambahan\n",
        "circuit      = QuantumCircuit(num_qubits)  # Membuat sirkuit kuantum dengan jumlah qubit tertentu\n",
        "\n",
        "# Data Encoding\n",
        "for i in range(num_qubits):\n",
        "    circuit.ry(theta[i], i)  # Mengkodekan data dengan rotasi pada sumbu Y (RY) menggunakan parameter theta\n",
        "\n",
        "circuit.barrier()  # Menambahkan barrier untuk memisahkan bagian sirkuit\n",
        "\n",
        "# Ansatz\n",
        "for i in range(num_qubits - 1):\n",
        "    circuit.rx(phi[i], i)  # Menerapkan rotasi pada sumbu X (RX) menggunakan parameter phi pada qubit ke-i\n",
        "    circuit.rz(phi[i], i)  # Menerapkan rotasi pada sumbu Z (RZ) menggunakan parameter phi pada qubit ke-i\n",
        "    circuit.cx(i, i + 1)  # Menerapkan gerbang CNOT antara qubit ke-i (kontrol) dan qubit ke-(i+1) (target)\n",
        "\n",
        "circuit.rx(phi[num_qubits - 1], num_qubits - 1)\n",
        "# Menerapkan rotasi RX pada qubit terakhir menggunakan parameter phi\n",
        "\n",
        "circuit.rz(phi[num_qubits - 1], num_qubits - 1)\n",
        "# Menerapkan rotasi RZ pada qubit terakhir menggunakan parameter phi\n",
        "\n",
        "circuit.cx(3, 0)\n",
        "# Menerapkan gerbang CNOT antara qubit ke-3 (kontrol) dan qubit ke-0 (target)\n",
        "\n",
        "# Plot sirkuit\n",
        "circuit.draw(output='mpl', style='clifford')\n",
        "# Menggambar sirkuit menggunakan matplotlib dengan gaya Clifford\n"
      ],
      "metadata": {
        "colab": {
          "base_uri": "https://localhost:8080/",
          "height": 320
        },
        "id": "4hndxf3Urvft",
        "outputId": "378f7aa5-c68f-4339-f214-8300b9581b87"
      },
      "execution_count": 36,
      "outputs": [
        {
          "output_type": "execute_result",
          "data": {
            "text/plain": [
              "<Figure size 1290.83x367.889 with 1 Axes>"
            ],
            "image/png": "[encoded data removed]"
          },
          "metadata": {},
          "execution_count": 36
        }
      ]
    },
    {
      "cell_type": "code",
      "source": [
        "# Kurva pembelajaran\n",
        "import time  # Mengimpor pustaka time untuk mengukur waktu eksekusi\n",
        "from IPython.display import clear_output\n",
        "# Mengimpor fungsi clear_output untuk membersihkan output sel saat menampilkan pembaruan secara interaktif\n",
        "\n",
        "objective_func_vals = []\n",
        "# List untuk menyimpan nilai fungsi objektif selama proses pembelajaran\n",
        "\n",
        "def callback_graph(weights, obj_func_eval):\n",
        "    # Fungsi callback untuk memantau nilai fungsi objektif pada setiap iterasi\n",
        "    clear_output(wait=True)  # Membersihkan output sebelumnya\n",
        "    objective_func_vals.append(obj_func_eval)\n",
        "    # Menambahkan nilai fungsi objektif ke dalam list `objective_func_vals`\n",
        "    plt.title(\"Objective function value against iteration\")\n",
        "    # Menambahkan judul grafik\n",
        "    plt.xlabel(\"Iteration\")  # Menambahkan label sumbu x\n",
        "    plt.ylabel(\"Objective function value\")  # Menambahkan label sumbu y\n",
        "    plt.plot(range(len(objective_func_vals)), objective_func_vals)\n",
        "    # Membuat grafik nilai fungsi objektif terhadap iterasi\n",
        "    plt.show()  # Menampilkan grafik\n"
      ],
      "metadata": {
        "id": "ZforFMM5tCqp"
      },
      "execution_count": 37,
      "outputs": []
    },
    {
      "cell_type": "code",
      "source": [
        "# Kurva pembelajaran\n",
        "import time  # Mengimpor pustaka time untuk mengukur waktu eksekusi\n",
        "from IPython.display import clear_output\n",
        "# Mengimpor fungsi clear_output untuk membersihkan output sel saat menampilkan pembaruan secara interaktif\n",
        "\n",
        "objective_func_vals = []\n",
        "# List untuk menyimpan nilai fungsi objektif selama proses pembelajaran\n",
        "\n",
        "def callback_graph(weights, obj_func_eval):\n",
        "    # Fungsi callback untuk memantau nilai fungsi objektif pada setiap iterasi\n",
        "    clear_output(wait=True)  # Membersihkan output sebelumnya\n",
        "    objective_func_vals.append(obj_func_eval)\n",
        "    # Menambahkan nilai fungsi objektif ke dalam list `objective_func_vals`\n",
        "    plt.title(\"Objective function value against iteration\")\n",
        "    # Menambahkan judul grafik\n",
        "    plt.xlabel(\"Iteration\")  # Menambahkan label sumbu x\n",
        "    plt.ylabel(\"Objective function value\")  # Menambahkan label sumbu y\n",
        "    plt.plot(range(len(objective_func_vals)), objective_func_vals)\n",
        "    # Membuat grafik nilai fungsi objektif terhadap iterasi\n",
        "    plt.show()  # Menampilkan grafik\n"
      ],
      "metadata": {
        "id": "71GBAvD8tbZe"
      },
      "execution_count": 38,
      "outputs": []
    },
    {
      "cell_type": "code",
      "source": [
        "# Classifier\n",
        "from qiskit import Aer\n",
        "# Mengimpor Aer untuk simulasi backend\n",
        "\n",
        "from qiskit.circuit import QuantumCircuit, ParameterVector\n",
        "# Mengimpor QuantumCircuit untuk membuat sirkuit kuantum dan ParameterVector untuk parameterisasi\n",
        "\n",
        "from qiskit.utils import QuantumInstance\n",
        "# QuantumInstance untuk mengelola backend kuantum\n",
        "\n",
        "from qiskit.opflow import PauliSumOp, StateFn\n",
        "# PauliSumOp untuk mendefinisikan operator observasi dan StateFn untuk merepresentasikan fungsi status\n",
        "\n",
        "from qiskit.algorithms.optimizers import COBYLA, ADAM, QNSPSA, AQGD\n",
        "# Mengimpor optimizer untuk melatih model kuantum\n",
        "\n",
        "from qiskit_machine_learning.neural_networks import EstimatorQNN\n",
        "# Mengimpor EstimatorQNN, implementasi jaringan neural berbasis kuantum\n",
        "\n",
        "from qiskit_machine_learning.algorithms.classifiers import NeuralNetworkClassifier\n",
        "# Mengimpor NeuralNetworkClassifier untuk klasifikasi berbasis jaringan neural kuantum\n",
        "\n",
        "# Backend setup\n",
        "backend = Aer.get_backend('qasm_simulator')\n",
        "# Menggunakan simulator QASM sebagai backend\n",
        "\n",
        "quantum_instance = QuantumInstance(backend)\n",
        "# Membuat instance kuantum dengan backend\n",
        "\n",
        "# Observable setup\n",
        "observable = PauliSumOp.from_list([(\"XYZX\", 1.0)])\n",
        "# Mendefinisikan observabel berbasis operator Pauli\n",
        "\n",
        "# Optimizer setup\n",
        "optimizer = COBYLA(maxiter=100)\n",
        "# Menggunakan optimizer COBYLA dengan iterasi maksimum 100\n",
        "\n",
        "# Quantum neural network (QNN) setup\n",
        "qnn_expectation = StateFn(observable, is_measurement=True) @ StateFn(circuit)\n",
        "# Mengatur ekspektasi QNN berdasarkan observabel dan sirkuit\n",
        "\n",
        "estimator_qnn = EstimatorQNN(\n",
        "    circuit=circuit,  # Sirkuit kuantum\n",
        "    observables=observable,  # Observabel yang diukur\n",
        "    input_params=theta,  # Parameter input (theta)\n",
        "    weight_params=phi  # Parameter bobot (phi)\n",
        ")\n",
        "\n",
        "# Neural network classifier setup\n",
        "qnn = NeuralNetworkClassifier(\n",
        "    estimator_qnn,  # Estimator QNN\n",
        "    optimizer=optimizer,  # Optimizer untuk pelatihan\n",
        "    loss='squared_error',  # Fungsi kerugian\n",
        "    callback=callback_graph  # Callback untuk memantau pembelajaran\n",
        ")\n"
      ],
      "metadata": {
        "colab": {
          "base_uri": "https://localhost:8080/"
        },
        "id": "0gtjf5NauWno",
        "outputId": "0677638c-d985-4508-ed9b-74e8c940ef0a"
      },
      "execution_count": 39,
      "outputs": [
        {
          "output_type": "stream",
          "name": "stderr",
          "text": [
            "<ipython-input-39-36f27790d51d>:27: DeprecationWarning: The class ``qiskit.utils.quantum_instance.QuantumInstance`` is deprecated as of qiskit-terra 0.24.0. It will be removed in the Qiskit 1.0 release. For code migration guidelines, visit https://qisk.it/qi_migration.\n",
            "  quantum_instance = QuantumInstance(backend)\n",
            "<ipython-input-39-36f27790d51d>:39: DeprecationWarning: The class ``qiskit.opflow.state_fns.operator_state_fn.OperatorStateFn`` is deprecated as of qiskit-terra 0.24.0. It will be removed in the Qiskit 1.0 release. For code migration guidelines, visit https://qisk.it/opflow_migration.\n",
            "  qnn_expectation = StateFn(observable, is_measurement=True) @ StateFn(circuit)\n",
            "<ipython-input-39-36f27790d51d>:39: DeprecationWarning: The class ``qiskit.opflow.state_fns.circuit_state_fn.CircuitStateFn`` is deprecated as of qiskit-terra 0.24.0. It will be removed in the Qiskit 1.0 release. For code migration guidelines, visit https://qisk.it/opflow_migration.\n",
            "  qnn_expectation = StateFn(observable, is_measurement=True) @ StateFn(circuit)\n"
          ]
        }
      ]
    },
    {
      "cell_type": "markdown",
      "source": [
        "#4.Training"
      ],
      "metadata": {
        "id": "GhMTilO4ttpx"
      }
    },
    {
      "cell_type": "code",
      "source": [
        "qnn.fit(x_train, y_train)\n",
        "# Melatih jaringan neural kuantum (QNN) dengan data pelatihan (x_train, y_train)\n",
        "\n",
        "start = time.time()\n",
        "# Mencatat waktu mulai pelatihan\n",
        "\n",
        "elapsed = time.time() - start\n",
        "# Menghitung waktu yang berlalu selama pelatihan\n",
        "\n",
        "print(f\"Training time: {round(elapsed)} seconds\")\n",
        "# Menampilkan waktu pelatihan dalam detik\n"
      ],
      "metadata": {
        "colab": {
          "base_uri": "https://localhost:8080/",
          "height": 489
        },
        "id": "fZZ_1f7lt9Gj",
        "outputId": "c6b730a0-a3ab-44ba-b404-6564dad7c9d3"
      },
      "execution_count": 40,
      "outputs": [
        {
          "output_type": "display_data",
          "data": {
            "text/plain": [
              "<Figure size 640x480 with 1 Axes>"
            ],
            "image/png": "[encoded data removed]"
          },
          "metadata": {}
        },
        {
          "output_type": "stream",
          "name": "stdout",
          "text": [
            "Training time: 0 seconds\n"
          ]
        }
      ]
    },
    {
      "cell_type": "code",
      "source": [
        "from sklearn.metrics import confusion_matrix, ConfusionMatrixDisplay, roc_curve, auc\n",
        "# Mengimpor metrik evaluasi untuk klasifikasi, termasuk matriks kebingungan, ROC curve, dan AUC\n",
        "\n",
        "from sklearn.metrics import classification_report\n",
        "# Mengimpor laporan klasifikasi untuk meringkas hasil evaluasi\n",
        "\n",
        "y_pred_train = qnn.predict(x_train)\n",
        "# Membuat prediksi pada data pelatihan\n",
        "\n",
        "y_pred_test = qnn.predict(x_test)\n",
        "# Membuat prediksi pada data pengujian\n",
        "\n",
        "print('TRAINING:')\n",
        "# Menampilkan hasil evaluasi untuk data pelatihan\n",
        "print(classification_report(y_train, y_pred_train))\n",
        "# Menampilkan laporan klasifikasi untuk data pelatihan\n",
        "\n",
        "print('TESTING:')\n",
        "# Menampilkan hasil evaluasi untuk data pengujian\n",
        "print(classification_report(y_test, y_pred_test))\n",
        "# Menampilkan laporan klasifikasi untuk data pengujian\n"
      ],
      "metadata": {
        "colab": {
          "base_uri": "https://localhost:8080/"
        },
        "id": "ouMHvv4_uohm",
        "outputId": "0df10f27-b082-465a-f939-6c3b8f16db5a"
      },
      "execution_count": 41,
      "outputs": [
        {
          "output_type": "stream",
          "name": "stdout",
          "text": [
            "TRAINING:\n",
            "              precision    recall  f1-score   support\n",
            "\n",
            "          -1       1.00      1.00      1.00        38\n",
            "           1       1.00      1.00      1.00        42\n",
            "\n",
            "    accuracy                           1.00        80\n",
            "   macro avg       1.00      1.00      1.00        80\n",
            "weighted avg       1.00      1.00      1.00        80\n",
            "\n",
            "TESTING:\n",
            "              precision    recall  f1-score   support\n",
            "\n",
            "          -1       1.00      1.00      1.00        12\n",
            "           1       1.00      1.00      1.00         8\n",
            "\n",
            "    accuracy                           1.00        20\n",
            "   macro avg       1.00      1.00      1.00        20\n",
            "weighted avg       1.00      1.00      1.00        20\n",
            "\n"
          ]
        }
      ]
    },
    {
      "cell_type": "code",
      "source": [
        "# Confusion matrix\n",
        "cm_tr = confusion_matrix(y_train, y_pred_train)\n",
        "# Membuat confusion matrix untuk data pelatihan\n",
        "\n",
        "disp_tr = ConfusionMatrixDisplay(confusion_matrix=cm_tr)\n",
        "# Membuat objek untuk menampilkan confusion matrix pada data pelatihan\n",
        "\n",
        "cm_ts = confusion_matrix(y_test, y_pred_test)\n",
        "# Membuat confusion matrix untuk data pengujian\n",
        "\n",
        "disp_ts = ConfusionMatrixDisplay(confusion_matrix=cm_ts)\n",
        "# Membuat objek untuk menampilkan confusion matrix pada data pengujian\n",
        "\n",
        "fig, ax = plt.subplots(1, 2, figsize=(12, 5))\n",
        "# Membuat subplot dengan 2 grafik dalam satu baris dan ukuran figur 12x5\n",
        "\n",
        "disp_tr.plot(ax=ax[0])\n",
        "# Menampilkan confusion matrix untuk data pelatihan pada subplot pertama\n",
        "ax[0].set_title('Confusion Matrix - Training Set')\n",
        "# Memberi judul pada subplot pertama\n",
        "\n",
        "disp_ts.plot(ax=ax[1])\n",
        "# Menampilkan confusion matrix untuk data pengujian pada subplot kedua\n",
        "ax[1].set_title('Confusion Matrix - Test Set')\n",
        "# Memberi judul pada subplot kedua\n",
        "\n",
        "plt.show()\n",
        "# Menampilkan semua grafik\n"
      ],
      "metadata": {
        "colab": {
          "base_uri": "https://localhost:8080/",
          "height": 447
        },
        "id": "erMLtC5Gu2Z4",
        "outputId": "f5be2180-2f7e-413e-be21-e7297bca8031"
      },
      "execution_count": 42,
      "outputs": [
        {
          "output_type": "display_data",
          "data": {
            "text/plain": [
              "<Figure size 1200x500 with 4 Axes>"
            ],
            "image/png": "[encoded data removed]"
          },
          "metadata": {}
        }
      ]
    },
    {
      "cell_type": "code",
      "source": [
        "# Kurva ROC (AUC)\n",
        "fpr_tr, tpr_tr, _ = roc_curve(y_train, y_pred_train)  # FPR dan TPR untuk data pelatihan\n",
        "roc_auc_tr = auc(fpr_tr, tpr_tr)  # AUC untuk data pelatihan\n",
        "\n",
        "fpr_ts, tpr_ts, _ = roc_curve(y_test, y_pred_test)  # FPR dan TPR untuk data pengujian\n",
        "roc_auc_ts = auc(fpr_ts, tpr_ts)  # AUC untuk data pengujian\n",
        "\n",
        "plt.figure()  # Membuat figur baru untuk plotting\n",
        "\n",
        "# Plot ROC untuk data pelatihan\n",
        "plt.plot(fpr_tr, tpr_tr, color='darkorange', lw=2,\n",
        "         label=f'Training ROC curve (area = {roc_auc_tr:.2f})')\n",
        "\n",
        "# Plot ROC untuk data pengujian\n",
        "plt.plot(fpr_ts, tpr_ts, color='blue', lw=2,\n",
        "         label=f'Test ROC curve (area = {roc_auc_ts:.2f})')\n",
        "\n",
        "# Garis diagonal sebagai baseline (ROC random)\n",
        "plt.plot([0, 1], [0, 1], color='navy', lw=2, linestyle='--')\n",
        "\n",
        "# Menentukan batas sumbu\n",
        "plt.xlim([0.0, 1.0])\n",
        "plt.ylim([0.0, 1.05])\n",
        "\n",
        "# Menambahkan label dan judul\n",
        "plt.xlabel('FPR')  # False Positive Rate\n",
        "plt.ylabel('TPR')  # True Positive Rate\n",
        "plt.title('ROC (AUC)')\n",
        "\n",
        "# Menambahkan legenda\n",
        "plt.legend(loc=\"lower right\")\n",
        "\n",
        "# Menampilkan plot\n",
        "plt.show()\n"
      ],
      "metadata": {
        "colab": {
          "base_uri": "https://localhost:8080/",
          "height": 472
        },
        "id": "U9izOvdBvMc0",
        "outputId": "8a67ac98-d194-4e84-edbd-053c83c60b70"
      },
      "execution_count": 45,
      "outputs": [
        {
          "output_type": "display_data",
          "data": {
            "text/plain": [
              "<Figure size 640x480 with 1 Axes>"
            ],
            "image/png": "[encoded data removed]"
          },
          "metadata": {}
        }
      ]
    }
  ]
}